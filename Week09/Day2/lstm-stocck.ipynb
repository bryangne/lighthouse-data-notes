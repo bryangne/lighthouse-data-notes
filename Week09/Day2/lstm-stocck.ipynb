{
 "cells": [
  {
   "cell_type": "markdown",
   "metadata": {},
   "source": [
    "# Introduction\n",
    "\n",
    "LSTMs are very powerful in sequence prediction problems because they’re able to store past information. This is important in our case because the previous price of a stock is crucial in predicting its future price.\n",
    "\n",
    "We’ll kick of by importing NumPy for scientific computation, Matplotlib for plotting graphs, and Pandas to aide in loading and manipulating our datasets."
   ]
  },
  {
   "cell_type": "code",
   "execution_count": 1,
   "metadata": {},
   "outputs": [],
   "source": [
    "import numpy as np\n",
    "import matplotlib.pyplot as plt\n",
    "import pandas as pd"
   ]
  },
  {
   "cell_type": "markdown",
   "metadata": {},
   "source": [
    "## Loading the Dataset\n",
    "\n",
    "The next step is to load in our training dataset and select the Open and High columns that we’ll use in our modeling.\n",
    "\n",
    "We check the head of our dataset to give us a glimpse into the kind of dataset we’re working with."
   ]
  },
  {
   "cell_type": "code",
   "execution_count": 2,
   "metadata": {},
   "outputs": [],
   "source": [
    "dataset_train = pd.read_csv('NSE-TATAGLOBAL.csv')\n",
    "training_set = dataset_train.iloc[:, 1:2].values"
   ]
  },
  {
   "cell_type": "code",
   "execution_count": 3,
   "metadata": {},
   "outputs": [
    {
     "data": {
      "text/html": [
       "<div>\n",
       "<style scoped>\n",
       "    .dataframe tbody tr th:only-of-type {\n",
       "        vertical-align: middle;\n",
       "    }\n",
       "\n",
       "    .dataframe tbody tr th {\n",
       "        vertical-align: top;\n",
       "    }\n",
       "\n",
       "    .dataframe thead th {\n",
       "        text-align: right;\n",
       "    }\n",
       "</style>\n",
       "<table border=\"1\" class=\"dataframe\">\n",
       "  <thead>\n",
       "    <tr style=\"text-align: right;\">\n",
       "      <th></th>\n",
       "      <th>Date</th>\n",
       "      <th>Open</th>\n",
       "      <th>High</th>\n",
       "      <th>Low</th>\n",
       "      <th>Last</th>\n",
       "      <th>Close</th>\n",
       "      <th>Total Trade Quantity</th>\n",
       "      <th>Turnover (Lacs)</th>\n",
       "    </tr>\n",
       "  </thead>\n",
       "  <tbody>\n",
       "    <tr>\n",
       "      <th>0</th>\n",
       "      <td>2018-09-28</td>\n",
       "      <td>234.05</td>\n",
       "      <td>235.95</td>\n",
       "      <td>230.20</td>\n",
       "      <td>233.50</td>\n",
       "      <td>233.75</td>\n",
       "      <td>3069914</td>\n",
       "      <td>7162.35</td>\n",
       "    </tr>\n",
       "    <tr>\n",
       "      <th>1</th>\n",
       "      <td>2018-09-27</td>\n",
       "      <td>234.55</td>\n",
       "      <td>236.80</td>\n",
       "      <td>231.10</td>\n",
       "      <td>233.80</td>\n",
       "      <td>233.25</td>\n",
       "      <td>5082859</td>\n",
       "      <td>11859.95</td>\n",
       "    </tr>\n",
       "    <tr>\n",
       "      <th>2</th>\n",
       "      <td>2018-09-26</td>\n",
       "      <td>240.00</td>\n",
       "      <td>240.00</td>\n",
       "      <td>232.50</td>\n",
       "      <td>235.00</td>\n",
       "      <td>234.25</td>\n",
       "      <td>2240909</td>\n",
       "      <td>5248.60</td>\n",
       "    </tr>\n",
       "    <tr>\n",
       "      <th>3</th>\n",
       "      <td>2018-09-25</td>\n",
       "      <td>233.30</td>\n",
       "      <td>236.75</td>\n",
       "      <td>232.00</td>\n",
       "      <td>236.25</td>\n",
       "      <td>236.10</td>\n",
       "      <td>2349368</td>\n",
       "      <td>5503.90</td>\n",
       "    </tr>\n",
       "    <tr>\n",
       "      <th>4</th>\n",
       "      <td>2018-09-24</td>\n",
       "      <td>233.55</td>\n",
       "      <td>239.20</td>\n",
       "      <td>230.75</td>\n",
       "      <td>234.00</td>\n",
       "      <td>233.30</td>\n",
       "      <td>3423509</td>\n",
       "      <td>7999.55</td>\n",
       "    </tr>\n",
       "  </tbody>\n",
       "</table>\n",
       "</div>"
      ],
      "text/plain": [
       "         Date    Open    High     Low    Last   Close  Total Trade Quantity  \\\n",
       "0  2018-09-28  234.05  235.95  230.20  233.50  233.75               3069914   \n",
       "1  2018-09-27  234.55  236.80  231.10  233.80  233.25               5082859   \n",
       "2  2018-09-26  240.00  240.00  232.50  235.00  234.25               2240909   \n",
       "3  2018-09-25  233.30  236.75  232.00  236.25  236.10               2349368   \n",
       "4  2018-09-24  233.55  239.20  230.75  234.00  233.30               3423509   \n",
       "\n",
       "   Turnover (Lacs)  \n",
       "0          7162.35  \n",
       "1         11859.95  \n",
       "2          5248.60  \n",
       "3          5503.90  \n",
       "4          7999.55  "
      ]
     },
     "execution_count": 3,
     "metadata": {},
     "output_type": "execute_result"
    }
   ],
   "source": [
    "dataset_train.head()"
   ]
  },
  {
   "cell_type": "markdown",
   "metadata": {},
   "source": [
    "The Open column is the starting price while the Close column is the final price of a stock on a particular trading day. The High and Low columns represent the highest and lowest prices for a certain day."
   ]
  },
  {
   "cell_type": "markdown",
   "metadata": {},
   "source": [
    "## Feature Scaling\n",
    "\n",
    "From previous experience with deep learning models, we know that we have to scale our data for optimal performance. In our case, we’ll use Scikit- Learn’s MinMaxScaler and scale our dataset to numbers between zero and one."
   ]
  },
  {
   "cell_type": "code",
   "execution_count": 4,
   "metadata": {},
   "outputs": [],
   "source": [
    "from sklearn.preprocessing import MinMaxScaler\n",
    "sc = MinMaxScaler(feature_range = (0, 1))\n",
    "training_set_scaled = sc.fit_transform(training_set)"
   ]
  },
  {
   "cell_type": "code",
   "execution_count": 5,
   "metadata": {},
   "outputs": [],
   "source": [
    "from sklearn.preprocessing import MinMaxScaler\n",
    "sc = MinMaxScaler(feature_range = (0, 1))\n",
    "training_set_scaled = sc.fit_transform(training_set)"
   ]
  },
  {
   "cell_type": "markdown",
   "metadata": {},
   "source": [
    "## Creating Data with Timesteps\n",
    "**LSTMs** expect our data to be in a specific format, usually a *3D* array. We start by creating data in 60 timesteps and converting it into an array using `NumPy`. \n",
    "\n",
    "Next, we convert the data into a 3D dimension array with `X_train` samples, 60 timestamps, and one feature at each step."
   ]
  },
  {
   "cell_type": "code",
   "execution_count": 6,
   "metadata": {},
   "outputs": [],
   "source": [
    "X_train = []\n",
    "y_train = []\n",
    "for i in range(60, 2035):\n",
    "    X_train.append(training_set_scaled[i-60:i, 0])\n",
    "    y_train.append(training_set_scaled[i, 0])\n",
    "X_train, y_train = np.array(X_train), np.array(y_train)\n",
    "\n",
    "X_train = np.reshape(X_train, (X_train.shape[0], X_train.shape[1], 1))"
   ]
  },
  {
   "cell_type": "markdown",
   "metadata": {},
   "source": [
    "## Building the LSTM\n",
    "In order to build the LSTM, we need to import a couple of modules from Keras:\n",
    "1. `Sequential` for initializing the neural network\n",
    "2. `Dense` for adding a densely connected neural network layer\n",
    "3. `LSTM` for adding the Long Short-Term Memory layer\n",
    "4. `Dropout` for adding dropout layers that prevent overfitting"
   ]
  },
  {
   "cell_type": "code",
   "execution_count": 7,
   "metadata": {},
   "outputs": [],
   "source": [
    "\n",
    "from keras.models import Sequential\n",
    "from keras.layers import Dense\n",
    "from keras.layers import LSTM\n",
    "from keras.layers import Dropout"
   ]
  },
  {
   "cell_type": "markdown",
   "metadata": {},
   "source": [
    "We add the `LSTM` layer and later add a few `Dropout` layers to prevent overfitting. We add the `LSTM` layer with the following arguments:\n",
    "\n",
    "- 50 `units` which is the dimensionality of the output space\n",
    "- `return_sequences=True` which determines whether to return the last output in the output sequence, or the full sequence\n",
    "- `input_shape` as the shape of our training set."
   ]
  },
  {
   "cell_type": "markdown",
   "metadata": {},
   "source": [
    "When defining the `Dropout` layers, we specify 0.2, meaning that 20% of the layers will be dropped. Thereafter, we add the `Dense` layer that specifies the output of 1 unit. After this, we compile our model using the popular `Adam` optimizer and set the loss as the `mean_squarred_error`. This will compute the mean of the squared errors. Next, we fit the model to run on 100 epochs with a batch size of 32. Keep in mind that, depending on the specs of your computer, this might take a few minutes to finish running."
   ]
  },
  {
   "cell_type": "code",
   "execution_count": 8,
   "metadata": {},
   "outputs": [
    {
     "data": {
      "text/plain": [
       "'1.19.2'"
      ]
     },
     "execution_count": 8,
     "metadata": {},
     "output_type": "execute_result"
    }
   ],
   "source": [
    "import numpy\n",
    "numpy.version.version"
   ]
  },
  {
   "cell_type": "code",
   "execution_count": 9,
   "metadata": {},
   "outputs": [],
   "source": [
    "regressor = Sequential()\n",
    "\n",
    "regressor.add(LSTM(units = 50, return_sequences = True, input_shape = (X_train.shape[1], 1)))\n",
    "regressor.add(Dropout(0.2))\n",
    "\n",
    "regressor.add(LSTM(units = 50, return_sequences = True))\n",
    "regressor.add(Dropout(0.2))\n",
    "\n",
    "regressor.add(LSTM(units = 50, return_sequences = True))\n",
    "regressor.add(Dropout(0.2))\n",
    "\n",
    "regressor.add(LSTM(units = 50))\n",
    "regressor.add(Dropout(0.2))\n",
    "\n",
    "regressor.add(Dense(units = 1))"
   ]
  },
  {
   "cell_type": "code",
   "execution_count": 10,
   "metadata": {},
   "outputs": [
    {
     "name": "stdout",
     "output_type": "stream",
     "text": [
      "Epoch 1/100\n",
      "62/62 [==============================] - 2s 38ms/step - loss: 0.0089\n",
      "Epoch 2/100\n",
      "62/62 [==============================] - 2s 38ms/step - loss: 0.0031\n",
      "Epoch 3/100\n",
      "62/62 [==============================] - 2s 39ms/step - loss: 0.0029\n",
      "Epoch 4/100\n",
      "62/62 [==============================] - 2s 39ms/step - loss: 0.0027\n",
      "Epoch 5/100\n",
      "62/62 [==============================] - 2s 39ms/step - loss: 0.0024\n",
      "Epoch 6/100\n",
      "62/62 [==============================] - 2s 39ms/step - loss: 0.0023\n",
      "Epoch 7/100\n",
      "62/62 [==============================] - 2s 40ms/step - loss: 0.0025\n",
      "Epoch 8/100\n",
      "62/62 [==============================] - 2s 38ms/step - loss: 0.0021\n",
      "Epoch 9/100\n",
      "62/62 [==============================] - 2s 38ms/step - loss: 0.0021\n",
      "Epoch 10/100\n",
      "62/62 [==============================] - 2s 38ms/step - loss: 0.0021\n",
      "Epoch 11/100\n",
      "62/62 [==============================] - 2s 39ms/step - loss: 0.0018\n",
      "Epoch 12/100\n",
      "62/62 [==============================] - 2s 39ms/step - loss: 0.0017\n",
      "Epoch 13/100\n",
      "62/62 [==============================] - 2s 40ms/step - loss: 0.0017\n",
      "Epoch 14/100\n",
      "62/62 [==============================] - 2s 38ms/step - loss: 0.0014\n",
      "Epoch 15/100\n",
      "62/62 [==============================] - 2s 38ms/step - loss: 0.0017\n",
      "Epoch 16/100\n",
      "62/62 [==============================] - 2s 38ms/step - loss: 0.0016\n",
      "Epoch 17/100\n",
      "62/62 [==============================] - 2s 38ms/step - loss: 0.0019\n",
      "Epoch 18/100\n",
      "62/62 [==============================] - 2s 38ms/step - loss: 0.0017\n",
      "Epoch 19/100\n",
      "62/62 [==============================] - 2s 39ms/step - loss: 0.0014\n",
      "Epoch 20/100\n",
      "62/62 [==============================] - 2s 39ms/step - loss: 0.0015\n",
      "Epoch 21/100\n",
      "62/62 [==============================] - 2s 39ms/step - loss: 0.0012\n",
      "Epoch 22/100\n",
      "62/62 [==============================] - 2s 38ms/step - loss: 0.0014\n",
      "Epoch 23/100\n",
      "62/62 [==============================] - 2s 38ms/step - loss: 0.0012\n",
      "Epoch 24/100\n",
      "62/62 [==============================] - 2s 38ms/step - loss: 0.0013\n",
      "Epoch 25/100\n",
      "62/62 [==============================] - 2s 38ms/step - loss: 0.0012\n",
      "Epoch 26/100\n",
      "62/62 [==============================] - 2s 39ms/step - loss: 0.0013\n",
      "Epoch 27/100\n",
      "62/62 [==============================] - 2s 39ms/step - loss: 0.0011\n",
      "Epoch 28/100\n",
      "62/62 [==============================] - 2s 38ms/step - loss: 0.0011\n",
      "Epoch 29/100\n",
      "62/62 [==============================] - 2s 39ms/step - loss: 0.0013\n",
      "Epoch 30/100\n",
      "62/62 [==============================] - 2s 38ms/step - loss: 0.0011\n",
      "Epoch 31/100\n",
      "62/62 [==============================] - 2s 38ms/step - loss: 0.0011\n",
      "Epoch 32/100\n",
      "62/62 [==============================] - 2s 38ms/step - loss: 0.0011\n",
      "Epoch 33/100\n",
      "62/62 [==============================] - 2s 39ms/step - loss: 9.2041e-04\n",
      "Epoch 34/100\n",
      "62/62 [==============================] - 2s 38ms/step - loss: 0.0010\n",
      "Epoch 35/100\n",
      "62/62 [==============================] - 2s 39ms/step - loss: 0.0011\n",
      "Epoch 36/100\n",
      "62/62 [==============================] - 2s 39ms/step - loss: 9.8916e-04\n",
      "Epoch 37/100\n",
      "62/62 [==============================] - 2s 39ms/step - loss: 0.0011\n",
      "Epoch 38/100\n",
      "62/62 [==============================] - 2s 39ms/step - loss: 0.0011\n",
      "Epoch 39/100\n",
      "62/62 [==============================] - 2s 39ms/step - loss: 9.4570e-04\n",
      "Epoch 40/100\n",
      "62/62 [==============================] - 2s 40ms/step - loss: 9.3125e-04\n",
      "Epoch 41/100\n",
      "62/62 [==============================] - 2s 39ms/step - loss: 8.7873e-04\n",
      "Epoch 42/100\n",
      "62/62 [==============================] - 2s 39ms/step - loss: 9.3837e-04\n",
      "Epoch 43/100\n",
      "62/62 [==============================] - 2s 39ms/step - loss: 9.3689e-04\n",
      "Epoch 44/100\n",
      "62/62 [==============================] - 2s 39ms/step - loss: 9.4416e-04\n",
      "Epoch 45/100\n",
      "62/62 [==============================] - 2s 39ms/step - loss: 8.8462e-04\n",
      "Epoch 46/100\n",
      "62/62 [==============================] - 2s 40ms/step - loss: 9.8264e-04\n",
      "Epoch 47/100\n",
      "62/62 [==============================] - 2s 40ms/step - loss: 8.6032e-04\n",
      "Epoch 48/100\n",
      "62/62 [==============================] - 2s 39ms/step - loss: 0.0010\n",
      "Epoch 49/100\n",
      "62/62 [==============================] - 2s 39ms/step - loss: 9.4707e-04\n",
      "Epoch 50/100\n",
      "62/62 [==============================] - 3s 42ms/step - loss: 9.3878e-04\n",
      "Epoch 51/100\n",
      "62/62 [==============================] - 3s 41ms/step - loss: 9.0600e-04\n",
      "Epoch 52/100\n",
      "62/62 [==============================] - 3s 48ms/step - loss: 7.6051e-04\n",
      "Epoch 53/100\n",
      "62/62 [==============================] - 3s 42ms/step - loss: 8.4340e-04\n",
      "Epoch 54/100\n",
      "62/62 [==============================] - 3s 44ms/step - loss: 9.1561e-04\n",
      "Epoch 55/100\n",
      "62/62 [==============================] - 3s 42ms/step - loss: 8.5160e-04\n",
      "Epoch 56/100\n",
      "62/62 [==============================] - 3s 44ms/step - loss: 8.7033e-04\n",
      "Epoch 57/100\n",
      "62/62 [==============================] - 3s 43ms/step - loss: 8.6766e-04\n",
      "Epoch 58/100\n",
      "62/62 [==============================] - 2s 40ms/step - loss: 7.4146e-04\n",
      "Epoch 59/100\n",
      "62/62 [==============================] - 2s 39ms/step - loss: 8.2800e-04\n",
      "Epoch 60/100\n",
      "62/62 [==============================] - 2s 40ms/step - loss: 7.3791e-04\n",
      "Epoch 61/100\n",
      "62/62 [==============================] - 2s 40ms/step - loss: 8.3768e-04\n",
      "Epoch 62/100\n",
      "62/62 [==============================] - 3s 41ms/step - loss: 9.5195e-04\n",
      "Epoch 63/100\n",
      "62/62 [==============================] - 2s 38ms/step - loss: 8.4280e-04\n",
      "Epoch 64/100\n",
      "62/62 [==============================] - 2s 39ms/step - loss: 7.9996e-04\n",
      "Epoch 65/100\n",
      "62/62 [==============================] - 2s 39ms/step - loss: 8.3980e-04\n",
      "Epoch 66/100\n",
      "62/62 [==============================] - 2s 39ms/step - loss: 8.8649e-04\n",
      "Epoch 67/100\n",
      "62/62 [==============================] - 2s 39ms/step - loss: 7.0085e-04\n",
      "Epoch 68/100\n",
      "62/62 [==============================] - 2s 38ms/step - loss: 8.2376e-04\n",
      "Epoch 69/100\n",
      "62/62 [==============================] - 2s 38ms/step - loss: 7.4372e-04\n",
      "Epoch 70/100\n",
      "62/62 [==============================] - 2s 38ms/step - loss: 6.8507e-04\n",
      "Epoch 71/100\n",
      "62/62 [==============================] - 2s 40ms/step - loss: 8.1983e-04\n",
      "Epoch 72/100\n",
      "62/62 [==============================] - 2s 38ms/step - loss: 6.1148e-04\n",
      "Epoch 73/100\n",
      "62/62 [==============================] - 2s 37ms/step - loss: 7.5182e-04\n",
      "Epoch 74/100\n",
      "62/62 [==============================] - 2s 36ms/step - loss: 7.2253e-04\n",
      "Epoch 75/100\n",
      "62/62 [==============================] - 2s 37ms/step - loss: 7.4365e-04\n",
      "Epoch 76/100\n",
      "62/62 [==============================] - 2s 37ms/step - loss: 7.2563e-04\n",
      "Epoch 77/100\n",
      "62/62 [==============================] - 2s 37ms/step - loss: 6.6969e-04\n",
      "Epoch 78/100\n",
      "62/62 [==============================] - 2s 37ms/step - loss: 7.5495e-04\n",
      "Epoch 79/100\n",
      "62/62 [==============================] - 2s 36ms/step - loss: 6.4506e-04\n",
      "Epoch 80/100\n",
      "62/62 [==============================] - 2s 36ms/step - loss: 7.0624e-04\n",
      "Epoch 81/100\n",
      "62/62 [==============================] - 2s 36ms/step - loss: 7.0251e-04\n",
      "Epoch 82/100\n",
      "62/62 [==============================] - 2s 36ms/step - loss: 7.4083e-04\n",
      "Epoch 83/100\n",
      "62/62 [==============================] - 2s 36ms/step - loss: 8.4387e-04\n",
      "Epoch 84/100\n",
      "62/62 [==============================] - 2s 36ms/step - loss: 7.7376e-04\n",
      "Epoch 85/100\n",
      "62/62 [==============================] - 2s 37ms/step - loss: 6.3241e-04: 0s - lo\n",
      "Epoch 86/100\n",
      "62/62 [==============================] - 2s 36ms/step - loss: 6.8548e-04\n",
      "Epoch 87/100\n",
      "62/62 [==============================] - 2s 36ms/step - loss: 6.4586e-04\n",
      "Epoch 88/100\n",
      "62/62 [==============================] - 2s 36ms/step - loss: 6.9031e-04\n",
      "Epoch 89/100\n",
      "62/62 [==============================] - 2s 36ms/step - loss: 6.2448e-04\n",
      "Epoch 90/100\n",
      "62/62 [==============================] - 2s 36ms/step - loss: 6.4761e-04\n",
      "Epoch 91/100\n",
      "62/62 [==============================] - 2s 36ms/step - loss: 6.6337e-04\n",
      "Epoch 92/100\n",
      "62/62 [==============================] - 2s 37ms/step - loss: 7.5655e-04\n",
      "Epoch 93/100\n",
      "62/62 [==============================] - 2s 37ms/step - loss: 6.6496e-04\n",
      "Epoch 94/100\n",
      "62/62 [==============================] - 2s 37ms/step - loss: 5.9871e-04\n",
      "Epoch 95/100\n",
      "62/62 [==============================] - 2s 37ms/step - loss: 6.4085e-04\n",
      "Epoch 96/100\n",
      "62/62 [==============================] - 2s 36ms/step - loss: 6.8685e-04\n",
      "Epoch 97/100\n",
      "62/62 [==============================] - 2s 36ms/step - loss: 6.3521e-04\n",
      "Epoch 98/100\n",
      "62/62 [==============================] - 2s 37ms/step - loss: 6.9004e-04\n",
      "Epoch 99/100\n",
      "62/62 [==============================] - 2s 38ms/step - loss: 7.1810e-04\n",
      "Epoch 100/100\n",
      "62/62 [==============================] - 2s 40ms/step - loss: 6.8283e-04\n"
     ]
    },
    {
     "data": {
      "text/plain": [
       "<tensorflow.python.keras.callbacks.History at 0x13cc92ec430>"
      ]
     },
     "execution_count": 10,
     "metadata": {},
     "output_type": "execute_result"
    }
   ],
   "source": [
    "regressor.compile(optimizer = 'adam', loss = 'mean_squared_error')\n",
    "regressor.fit(X_train, y_train, epochs = 100, batch_size = 32)"
   ]
  },
  {
   "cell_type": "markdown",
   "metadata": {},
   "source": [
    "## Predicting Future Stock using the Test Set\n",
    "First we need to import the test set that we’ll use to make our predictions on."
   ]
  },
  {
   "cell_type": "code",
   "execution_count": 12,
   "metadata": {},
   "outputs": [],
   "source": [
    "dataset_test = pd.read_csv('tatatest.csv')\n",
    "real_stock_price = dataset_test.iloc[:, 1:2].values"
   ]
  },
  {
   "cell_type": "markdown",
   "metadata": {},
   "source": [
    "In order to predict future stock prices we need to do a couple of things after loading in the test set:\n",
    "1. Merge the training set and the test set on the 0 axis.\n",
    "2. Set the time step as 60 (as seen previously)\n",
    "3. Use `MinMaxScaler` to transform the new dataset\n",
    "4. Reshape the dataset as done previously\n",
    "After making the predictions we use `inverse_transform` to get back the stock prices in normal readable format."
   ]
  },
  {
   "cell_type": "code",
   "execution_count": 13,
   "metadata": {},
   "outputs": [],
   "source": [
    "dataset_total = pd.concat((dataset_train['Open'], dataset_test['Open']), axis = 0)\n",
    "inputs = dataset_total[len(dataset_total) - len(dataset_test) - 60:].values\n",
    "inputs = inputs.reshape(-1,1)\n",
    "inputs = sc.transform(inputs)\n",
    "X_test = []\n",
    "for i in range(60, 76):\n",
    "    X_test.append(inputs[i-60:i, 0])\n",
    "X_test = np.array(X_test)\n",
    "X_test = np.reshape(X_test, (X_test.shape[0], X_test.shape[1], 1))\n",
    "predicted_stock_price = regressor.predict(X_test)\n",
    "predicted_stock_price = sc.inverse_transform(predicted_stock_price)"
   ]
  },
  {
   "cell_type": "markdown",
   "metadata": {},
   "source": [
    "## Plotting the Results\n",
    "Finally, we use Matplotlib to visualize the result of the predicted stock price and the real stock price."
   ]
  },
  {
   "cell_type": "code",
   "execution_count": 14,
   "metadata": {},
   "outputs": [
    {
     "data": {
      "image/png": "[encoded data removed]",
      "text/plain": [
       "<Figure size 432x288 with 1 Axes>"
      ]
     },
     "metadata": {
      "needs_background": "light"
     },
     "output_type": "display_data"
    }
   ],
   "source": [
    "plt.plot(real_stock_price, color = 'black', label = 'TATA Stock Price')\n",
    "plt.plot(predicted_stock_price, color = 'green', label = 'Predicted TATA Stock Price')\n",
    "plt.title('TATA Stock Price Prediction')\n",
    "plt.xlabel('Time')\n",
    "plt.ylabel('TATA Stock Price')\n",
    "plt.legend()\n",
    "plt.show()"
   ]
  },
  {
   "cell_type": "markdown",
   "metadata": {},
   "source": [
    "From the plot we can see that the real stock price went up while our model also predicted that the price of the stock will go up. This clearly shows how powerful LSTMs are for analyzing time series and sequential data.\n",
    "\n",
    "# Conclusion\n",
    "There are a couple of other techniques of predicting stock prices such as `moving averages`, `linear regression`, `K-Nearest Neighbours`, `ARIMA` and `Prophet`. These are techniques that one can test on their own and compare their performance with the `Keras LSTM`. If you wish to learn more about `Keras` and deep learning you can find my articles on that here and here."
   ]
  }
 ],
 "metadata": {
  "interpreter": {
   "hash": "e58bee93fc224c7a286422faeec37fb8e5e546f812e9d0973ae4eb5c691cd7b0"
  },
  "kernelspec": {
   "display_name": "Python 3.8.12 64-bit ('keras': conda)",
   "language": "python",
   "name": "python3"
  },
  "language_info": {
   "codemirror_mode": {
    "name": "ipython",
    "version": 3
   },
   "file_extension": ".py",
   "mimetype": "text/x-python",
   "name": "python",
   "nbconvert_exporter": "python",
   "pygments_lexer": "ipython3",
   "version": "3.8.12"
  },
  "orig_nbformat": 4
 },
 "nbformat": 4,
 "nbformat_minor": 2
}
