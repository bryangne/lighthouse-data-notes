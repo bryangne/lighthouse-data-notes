{
 "cells": [
  {
   "cell_type": "markdown",
   "id": "b979f6c5-c40d-4311-ac40-857b4e754f4c",
   "metadata": {},
   "source": [
    "# Null Value Replacement"
   ]
  },
  {
   "cell_type": "markdown",
   "id": "9ac183e9-9a47-41e7-b0ec-ea763774ff44",
   "metadata": {},
   "source": [
    "Let's go back to our House Price Prediction Project. In this part, we are going to handle missing variables in the dataset."
   ]
  },
  {
   "cell_type": "markdown",
   "id": "1deda717-1c55-4c4c-8c85-7c52f0de35e2",
   "metadata": {},
   "source": [
    "### Prediction of House Prices: Null Value Replacement\n",
    "\n",
    "We can continue in the same notebook as in the activityOutlier Detection.\n",
    "\n",
    "As a first step, we will check whether we have some columns with missing values."
   ]
  },
  {
   "cell_type": "code",
   "execution_count": 1,
   "id": "e708b0b6-fe46-4c48-8fca-bba6d5a4fc5a",
   "metadata": {},
   "outputs": [],
   "source": [
    "import pandas as pd\n",
    "import numpy as np\n",
    "\n",
    "import matplotlib.pyplot as plt\n",
    "import seaborn as sns\n",
    "sns.set_theme()\n",
    "\n",
    "df_train = pd.read_csv('train.csv')"
   ]
  },
  {
   "cell_type": "code",
   "execution_count": 3,
   "id": "53bddbc1-4878-41a3-bcba-bb0214633f4b",
   "metadata": {},
   "outputs": [
    {
     "data": {
      "text/html": [
       "<div>\n",
       "<style scoped>\n",
       "    .dataframe tbody tr th:only-of-type {\n",
       "        vertical-align: middle;\n",
       "    }\n",
       "\n",
       "    .dataframe tbody tr th {\n",
       "        vertical-align: top;\n",
       "    }\n",
       "\n",
       "    .dataframe thead th {\n",
       "        text-align: right;\n",
       "    }\n",
       "</style>\n",
       "<table border=\"1\" class=\"dataframe\">\n",
       "  <thead>\n",
       "    <tr style=\"text-align: right;\">\n",
       "      <th></th>\n",
       "      <th>Total</th>\n",
       "      <th>Percent</th>\n",
       "    </tr>\n",
       "  </thead>\n",
       "  <tbody>\n",
       "    <tr>\n",
       "      <th>PoolQC</th>\n",
       "      <td>1453</td>\n",
       "      <td>0.995205</td>\n",
       "    </tr>\n",
       "    <tr>\n",
       "      <th>MiscFeature</th>\n",
       "      <td>1406</td>\n",
       "      <td>0.963014</td>\n",
       "    </tr>\n",
       "    <tr>\n",
       "      <th>Alley</th>\n",
       "      <td>1369</td>\n",
       "      <td>0.937671</td>\n",
       "    </tr>\n",
       "    <tr>\n",
       "      <th>Fence</th>\n",
       "      <td>1179</td>\n",
       "      <td>0.807534</td>\n",
       "    </tr>\n",
       "    <tr>\n",
       "      <th>FireplaceQu</th>\n",
       "      <td>690</td>\n",
       "      <td>0.472603</td>\n",
       "    </tr>\n",
       "    <tr>\n",
       "      <th>LotFrontage</th>\n",
       "      <td>259</td>\n",
       "      <td>0.177397</td>\n",
       "    </tr>\n",
       "    <tr>\n",
       "      <th>GarageCond</th>\n",
       "      <td>81</td>\n",
       "      <td>0.055479</td>\n",
       "    </tr>\n",
       "    <tr>\n",
       "      <th>GarageType</th>\n",
       "      <td>81</td>\n",
       "      <td>0.055479</td>\n",
       "    </tr>\n",
       "    <tr>\n",
       "      <th>GarageYrBlt</th>\n",
       "      <td>81</td>\n",
       "      <td>0.055479</td>\n",
       "    </tr>\n",
       "    <tr>\n",
       "      <th>GarageFinish</th>\n",
       "      <td>81</td>\n",
       "      <td>0.055479</td>\n",
       "    </tr>\n",
       "    <tr>\n",
       "      <th>GarageQual</th>\n",
       "      <td>81</td>\n",
       "      <td>0.055479</td>\n",
       "    </tr>\n",
       "    <tr>\n",
       "      <th>BsmtExposure</th>\n",
       "      <td>38</td>\n",
       "      <td>0.026027</td>\n",
       "    </tr>\n",
       "    <tr>\n",
       "      <th>BsmtFinType2</th>\n",
       "      <td>38</td>\n",
       "      <td>0.026027</td>\n",
       "    </tr>\n",
       "    <tr>\n",
       "      <th>BsmtFinType1</th>\n",
       "      <td>37</td>\n",
       "      <td>0.025342</td>\n",
       "    </tr>\n",
       "    <tr>\n",
       "      <th>BsmtCond</th>\n",
       "      <td>37</td>\n",
       "      <td>0.025342</td>\n",
       "    </tr>\n",
       "    <tr>\n",
       "      <th>BsmtQual</th>\n",
       "      <td>37</td>\n",
       "      <td>0.025342</td>\n",
       "    </tr>\n",
       "    <tr>\n",
       "      <th>MasVnrArea</th>\n",
       "      <td>8</td>\n",
       "      <td>0.005479</td>\n",
       "    </tr>\n",
       "    <tr>\n",
       "      <th>MasVnrType</th>\n",
       "      <td>8</td>\n",
       "      <td>0.005479</td>\n",
       "    </tr>\n",
       "    <tr>\n",
       "      <th>Electrical</th>\n",
       "      <td>1</td>\n",
       "      <td>0.000685</td>\n",
       "    </tr>\n",
       "    <tr>\n",
       "      <th>Utilities</th>\n",
       "      <td>0</td>\n",
       "      <td>0.000000</td>\n",
       "    </tr>\n",
       "  </tbody>\n",
       "</table>\n",
       "</div>"
      ],
      "text/plain": [
       "              Total   Percent\n",
       "PoolQC         1453  0.995205\n",
       "MiscFeature    1406  0.963014\n",
       "Alley          1369  0.937671\n",
       "Fence          1179  0.807534\n",
       "FireplaceQu     690  0.472603\n",
       "LotFrontage     259  0.177397\n",
       "GarageCond       81  0.055479\n",
       "GarageType       81  0.055479\n",
       "GarageYrBlt      81  0.055479\n",
       "GarageFinish     81  0.055479\n",
       "GarageQual       81  0.055479\n",
       "BsmtExposure     38  0.026027\n",
       "BsmtFinType2     38  0.026027\n",
       "BsmtFinType1     37  0.025342\n",
       "BsmtCond         37  0.025342\n",
       "BsmtQual         37  0.025342\n",
       "MasVnrArea        8  0.005479\n",
       "MasVnrType        8  0.005479\n",
       "Electrical        1  0.000685\n",
       "Utilities         0  0.000000"
      ]
     },
     "execution_count": 3,
     "metadata": {},
     "output_type": "execute_result"
    }
   ],
   "source": [
    "# missing data\n",
    "total = df_train.isnull().sum().sort_values(ascending=False)\n",
    "percent = (df_train.isnull().sum()/df_train.isnull().count()).sort_values(ascending=False)\n",
    "missing_data = pd.concat([total, percent], axis=1, keys=['Total', 'Percent'])\n",
    "missing_data.head(20)"
   ]
  },
  {
   "cell_type": "markdown",
   "id": "124d4f89-a25a-47e2-826f-fd53fe6b0abd",
   "metadata": {},
   "source": [
    "There are a couple of columns, where most of the values are missing. We can get rid of these since they don't have any value for us."
   ]
  },
  {
   "cell_type": "code",
   "execution_count": 4,
   "id": "7fbcc95d-9446-47bd-9678-c01a25136855",
   "metadata": {},
   "outputs": [],
   "source": [
    "# drop 5 columns with the biggest ratio of null values\n",
    "to_drop = missing_data.head(5).index.tolist()\n",
    "df_train.drop(to_drop, axis=1, inplace=True)"
   ]
  },
  {
   "cell_type": "markdown",
   "id": "524c8e03-9131-4ac5-abab-27800607d442",
   "metadata": {},
   "source": [
    ">Be careful when removing columns. Sometimes a column can give us some relevant information even if 50% of values are `Null`. It's always good to be cautious when removing columns."
   ]
  },
  {
   "cell_type": "markdown",
   "id": "053172ac-9a44-431f-8ea4-241d229788d9",
   "metadata": {},
   "source": [
    "We don't want to remove more than 5 columns because the rest don't have a lot of missing values."
   ]
  },
  {
   "cell_type": "markdown",
   "id": "5ee1e0dd-a0e9-429a-92f9-3bf9c25e8bf7",
   "metadata": {},
   "source": [
    "- Let's check the data types of the columns with missing values."
   ]
  },
  {
   "cell_type": "code",
   "execution_count": 5,
   "id": "d1dbb309-ab0e-43ce-b993-493cb02e8148",
   "metadata": {},
   "outputs": [
    {
     "data": {
      "text/plain": [
       "BsmtQual         object\n",
       "GarageType       object\n",
       "LotFrontage     float64\n",
       "BsmtFinType2     object\n",
       "GarageQual       object\n",
       "MasVnrType       object\n",
       "GarageCond       object\n",
       "BsmtExposure     object\n",
       "MasVnrArea      float64\n",
       "Electrical       object\n",
       "BsmtFinType1     object\n",
       "GarageYrBlt     float64\n",
       "BsmtCond         object\n",
       "GarageFinish     object\n",
       "dtype: object"
      ]
     },
     "execution_count": 5,
     "metadata": {},
     "output_type": "execute_result"
    }
   ],
   "source": [
    "# extract the names of columns with missing values\n",
    "cols_with_missing = missing_data[missing_data.Percent > 0].index.tolist()\n",
    "# remove column names that are already removed from dataset\n",
    "missing_cols = list(set(cols_with_missing) - set(to_drop))\n",
    "# check the datatype\n",
    "df_train.dtypes[missing_cols]"
   ]
  },
  {
   "cell_type": "markdown",
   "id": "1052512a-ef62-40fa-8fd0-c6db58bb2afc",
   "metadata": {},
   "source": [
    "We can see that we have a few numeric variables and some with text inside. First, we will take a look at the numeric ones."
   ]
  },
  {
   "cell_type": "markdown",
   "id": "89f0b4d3-4e8a-4de1-b3cd-9e1f6ee48cb1",
   "metadata": {},
   "source": [
    "### Numeric Variables\n",
    "We will create a separate column to keep the information whether the value was missing. This way, we will have this information available in this column after we replace the value in the original one."
   ]
  },
  {
   "cell_type": "code",
   "execution_count": 6,
   "id": "3722f9dc-eb85-4b35-bfec-26571f2a3f24",
   "metadata": {},
   "outputs": [],
   "source": [
    "num_cols_with_missing = df_train.dtypes[missing_cols][df_train.dtypes[missing_cols] == 'float'].index.tolist()\n",
    "# create new variable with the information that it was missing\n",
    "for cl in num_cols_with_missing:\n",
    "    df_train[cl + \"_missing_ind\"] = 0\n",
    "    df_train.loc[df_train[cl].isnull(), cl + \"_missing_ind\"] = 1"
   ]
  },
  {
   "cell_type": "markdown",
   "id": "042fb051-7e52-41d5-ad0a-d24a33b5d02f",
   "metadata": {},
   "source": [
    "Now we can work on the Null value replacement."
   ]
  },
  {
   "cell_type": "code",
   "execution_count": 7,
   "id": "169c3a53-4973-4ac7-b38f-70581340784e",
   "metadata": {},
   "outputs": [],
   "source": [
    "df_train[\"LotFrontage\"] = df_train[\"LotFrontage\"].fillna(df_train[\"LotFrontage\"].mean())\n",
    "df_train[\"GarageYrBlt\"] = df_train[\"GarageYrBlt\"].fillna(df_train[\"GarageYrBlt\"].min())\n",
    "df_train[\"MasVnrArea\"] = df_train[\"MasVnrArea\"].fillna(0)"
   ]
  },
  {
   "cell_type": "markdown",
   "id": "8002e65f-3a1f-477f-8442-0a8072ec3d5e",
   "metadata": {},
   "source": [
    "- LotFrontage – We replace the missing values with the mean.\n",
    "- GarageYrBlt – If the house has a garage and the year is missing, we assume it's the minimum value available.\n",
    "- MasVnrArea – If the veneer area is missing, we assume it's 0."
   ]
  },
  {
   "cell_type": "markdown",
   "id": "1a932e6a-2f2c-4489-b4b8-945cacd5d614",
   "metadata": {},
   "source": [
    "### Object (String) Variables\n",
    ">Find the variables with the dtype == \"object\" and having at least one missing value."
   ]
  },
  {
   "cell_type": "code",
   "execution_count": 8,
   "id": "6879c30e-07d1-4b87-8f2c-549442a5884f",
   "metadata": {},
   "outputs": [],
   "source": [
    "# 2. for categorical variables:\n",
    "df_train.dtypes[missing_cols][df_train.dtypes[missing_cols] == 'object']\n",
    "cat_cols_with_missing = df_train.dtypes[missing_cols][df_train.dtypes[missing_cols] == 'object'].index.tolist()"
   ]
  },
  {
   "cell_type": "markdown",
   "id": "a84d8208-4a38-4abd-ba49-191db662a87e",
   "metadata": {},
   "source": [
    "With the help of the data documentation we have, we can figure out that the missing values in Garage and Basement variables mean no garage and no basement respectively. Therefore, we will replace the missing values with \"None\"."
   ]
  },
  {
   "cell_type": "code",
   "execution_count": 9,
   "id": "40c9ddfe-30a7-405a-a2cd-6a79aba8575e",
   "metadata": {},
   "outputs": [],
   "source": [
    "# GarageFinish : data description says NA means \"no garage\"\n",
    "df_train[\"GarageFinish\"] = df_train[\"GarageFinish\"].fillna(\"None\")\n",
    "# GarageCond : data description says NA means \"no garage\"\n",
    "df_train[\"GarageCond\"] = df_train[\"GarageCond\"].fillna(\"None\")\n",
    "# GarageQual : data description says NA means \"no garage\"\n",
    "df_train[\"GarageQual\"] = df_train[\"GarageQual\"].fillna(\"None\")\n",
    "# GarageType : data description says NA means \"no garage\"\n",
    "df_train[\"GarageType\"] = df_train[\"GarageType\"].fillna(\"None\")\n",
    "\n",
    "# BsmtExposure : data description says NA means \"no basement\"\n",
    "df_train[\"BsmtExposure\"] = df_train[\"BsmtExposure\"].fillna(\"None\")\n",
    "# BsmtFinType2 : data description says NA means \"no basement\"\n",
    "df_train[\"BsmtFinType2\"] = df_train[\"BsmtFinType2\"].fillna(\"None\")\n",
    "# BsmtFinType1 : data description says NA means \"no basement\"\n",
    "df_train[\"BsmtFinType1\"] = df_train[\"BsmtFinType1\"].fillna(\"None\")\n",
    "# BsmtCond : data description says NA means \"no basement\"\n",
    "df_train[\"BsmtCond\"] = df_train[\"BsmtCond\"].fillna(\"None\")\n",
    "# BsmtQual : data description says NA means \"no basement\"\n",
    "df_train[\"BsmtQual\"] = df_train[\"BsmtQual\"].fillna(\"None\")"
   ]
  },
  {
   "cell_type": "markdown",
   "id": "afae77f8-471b-4c05-8c43-52bdfe7a93a8",
   "metadata": {},
   "source": [
    "The information about Electrical and MasVnrType is missing in the documentation. Since we are dealing with categorical variables, we will create a new category for a missing value."
   ]
  },
  {
   "cell_type": "code",
   "execution_count": 10,
   "id": "a0b1c720-a849-4552-bb39-2429e025fbc4",
   "metadata": {},
   "outputs": [],
   "source": [
    "df_train[\"Electrical\"] = df_train[\"Electrical\"].fillna(\"Empty\")\n",
    "df_train[\"MasVnrType\"] = df_train[\"MasVnrType\"].fillna(\"Empty\")"
   ]
  },
  {
   "cell_type": "markdown",
   "id": "ecb5b0ee-bd4e-494a-8938-a4f132146334",
   "metadata": {},
   "source": [
    "Finally, we can run the missing values check once more to see if we have filled in all the data.\n",
    ">Check if you have any missing values in the dataset.\n",
    "\n",
    "We will continue with the tutorial in the activity Value Transformation."
   ]
  },
  {
   "cell_type": "code",
   "execution_count": null,
   "id": "aaf229ef-b839-4b36-badd-00f774023fc0",
   "metadata": {},
   "outputs": [],
   "source": []
  }
 ],
 "metadata": {
  "kernelspec": {
   "display_name": "Python 3",
   "language": "python",
   "name": "python3"
  },
  "language_info": {
   "codemirror_mode": {
    "name": "ipython",
    "version": 3
   },
   "file_extension": ".py",
   "mimetype": "text/x-python",
   "name": "python",
   "nbconvert_exporter": "python",
   "pygments_lexer": "ipython3",
   "version": "3.6.13"
  }
 },
 "nbformat": 4,
 "nbformat_minor": 5
}
