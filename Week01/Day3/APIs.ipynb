{
 "cells": [
  {
   "cell_type": "code",
   "execution_count": 4,
   "metadata": {},
   "outputs": [],
   "source": [
    "import my_api\n",
    "import requests as re"
   ]
  },
  {
   "cell_type": "code",
   "execution_count": 17,
   "metadata": {},
   "outputs": [],
   "source": [
    "client_id = my_api.foursquare['id']\n",
    "client_secret = my_api.foursquare['secret']\n",
    "client_key = my_api.foursquare['key']"
   ]
  },
  {
   "cell_type": "code",
   "execution_count": 10,
   "metadata": {},
   "outputs": [],
   "source": [
    "location = \"Toronto,Canada\"\n",
    "v = \"20200731\""
   ]
  },
  {
   "cell_type": "code",
   "execution_count": 11,
   "metadata": {},
   "outputs": [],
   "source": [
    "url = \"https://api.foursquare.com/v2/venues/search?near=\"+location+\"&client_id=\"+client_id+\"&client_secret=\"+client_secret+\"&v=\"+v"
   ]
  },
  {
   "cell_type": "code",
   "execution_count": 12,
   "metadata": {},
   "outputs": [],
   "source": [
    "res = re.get(url)"
   ]
  },
  {
   "cell_type": "code",
   "execution_count": 14,
   "metadata": {},
   "outputs": [
    {
     "name": "stdout",
     "output_type": "stream",
     "text": [
      "{'meta': {'code': 410, 'errorType': 'deprecated', 'errorDetail': 'Usage of the V2 Places API has been deprecated for new Projects. Please see our updated documentation for V3 for more details: https://docs.foursquare.com/reference', 'requestId': '619ecb930f38b9110270bc61'}, 'response': {}}\n"
     ]
    }
   ],
   "source": [
    "print(res.json())"
   ]
  },
  {
   "cell_type": "code",
   "execution_count": 24,
   "metadata": {},
   "outputs": [
    {
     "name": "stdout",
     "output_type": "stream",
     "text": [
      "{'results': [{'fsq_id': '4bc795d215a7ef3b97b279da', 'categories': [{'id': 17114, 'name': 'Shopping Mall', 'icon': {'prefix': 'https://ss3.4sqi.net/img/categories_v2/shops/mall_', 'suffix': '.png'}}], 'chains': [], 'distance': 2989, 'geocodes': {'main': {'latitude': 43.73501112909844, 'longitude': -79.34478724407985}}, 'location': {'address': '1090 Don Mills Rd', 'address_extended': '# 403A', 'country': 'CA', 'cross_street': 'at Lawrence Ave E', 'locality': 'Toronto', 'neighborhood': ['north york'], 'postcode': 'M3C 3R6', 'region': 'ON'}, 'name': 'Shops at Don Mills', 'related_places': {'children': [{'fsq_id': '50bfa5c9e4b06e3ca7404ca8', 'name': 'Panera Bread'}, {'fsq_id': '4afa2709f964a520171722e3', 'name': 'Metro'}, {'fsq_id': '5db4d0176f33bd00080dfe6b', 'name': 'Blink Blank'}]}, 'timezone': 'America/Toronto'}, {'fsq_id': '5810fe9138fabe486b7d632c', 'categories': [{'id': 17033, 'name': 'Department Store', 'icon': {'prefix': 'https://ss3.4sqi.net/img/categories_v2/shops/departmentstore_', 'suffix': '.png'}}], 'chains': [], 'distance': 5954, 'geocodes': {'main': {'latitude': 43.726082, 'longitude': -79.4494495}}, 'location': {'address': '3401 Dufferin St', 'address_extended': 'Unit 500', 'country': 'CA', 'cross_street': '', 'locality': 'Toronto', 'postcode': 'M6A 2T9', 'region': 'ON'}, 'name': 'Nordstrom', 'related_places': {'parent': {'fsq_id': '4ad4c062f964a52002f820e3', 'name': 'Yorkdale'}, 'children': [{'fsq_id': '5810feea38faaa3930f3aa05', 'name': 'Nordstrom Ebar Artisan Coffee'}]}, 'timezone': 'America/Toronto'}, {'fsq_id': '4ad4c05ef964a520bff620e3', 'categories': [{'id': 16026, 'name': 'Monument', 'icon': {'prefix': 'https://ss3.4sqi.net/img/categories_v2/building/government_monument_', 'suffix': '.png'}}], 'chains': [], 'distance': 7873, 'geocodes': {'main': {'latitude': 43.65024435658077, 'longitude': -79.35932278633118}}, 'location': {'address': '55 Mill St', 'country': 'CA', 'locality': 'Toronto', 'neighborhood': ['The Distillery District'], 'postcode': 'M5A 3C4', 'region': 'ON'}, 'name': 'The Distillery Historic District', 'related_places': {'children': [{'fsq_id': '50c0d9c4e4b027338e7d156b', 'name': 'Gentil Uomo'}, {'fsq_id': '53a22c92498ec91fda7ce133', 'name': 'Cluny Bistro'}, {'fsq_id': '4ac3e6cef964a520629d20e3', 'name': 'Archeo Trattoria'}]}, 'timezone': 'America/Toronto'}, {'fsq_id': '5a6f54bbf193c029b1ecd567', 'categories': [{'id': 17069, 'name': 'Grocery Store / Supermarket', 'icon': {'prefix': 'https://ss3.4sqi.net/img/categories_v2/shops/food_grocery_', 'suffix': '.png'}}], 'chains': [], 'distance': 6470, 'geocodes': {'main': {'latitude': 43.6619568, 'longitude': -79.3801601}}, 'location': {'address': '60 Carlton St', 'country': 'CA', 'cross_street': '', 'locality': 'Toronto', 'postcode': 'M5B 1J2', 'region': 'ON'}, 'name': 'Loblaws', 'related_places': {'children': [{'fsq_id': '5f2999f552c24533c6a6d2b8', 'name': 'PC Garden'}, {'fsq_id': '4ed6319130f813e77a9f8a3b', 'name': 'Joe Fresh'}, {'fsq_id': '5f77183274a1ae52a303596e', 'name': 'Starbucks'}]}, 'timezone': 'America/Toronto'}, {'fsq_id': '5b56812a4420d8002c58cefa', 'categories': [{'id': 17033, 'name': 'Department Store', 'icon': {'prefix': 'https://ss3.4sqi.net/img/categories_v2/shops/departmentstore_', 'suffix': '.png'}}, {'id': 17034, 'name': 'Discount Store', 'icon': {'prefix': 'https://ss3.4sqi.net/img/categories_v2/shops/discountstore_', 'suffix': '.png'}}], 'chains': [], 'distance': 2654, 'geocodes': {'main': {'latitude': 43.70705091308799, 'longitude': -79.3480933503406}}, 'location': {'address': '42 Overlea Blvd', 'address_extended': '# 46', 'country': 'CA', 'cross_street': '', 'locality': 'Toronto', 'postcode': 'M4H 1B6', 'region': 'ON'}, 'name': 'Costco', 'related_places': {'children': []}, 'timezone': 'America/Toronto'}, {'fsq_id': '4ad4c062f964a52002f820e3', 'categories': [{'id': 17114, 'name': 'Shopping Mall', 'icon': {'prefix': 'https://ss3.4sqi.net/img/categories_v2/shops/mall_', 'suffix': '.png'}}], 'chains': [], 'distance': 6209, 'geocodes': {'main': {'latitude': 43.72548184266099, 'longitude': -79.45273563264436}}, 'location': {'address': '3401 Dufferin St', 'address_extended': '# 160', 'country': 'CA', 'cross_street': '', 'locality': 'Toronto', 'neighborhood': ['Downsview'], 'postcode': 'M6A 2T9', 'region': 'ON'}, 'name': 'Yorkdale', 'related_places': {'children': [{'fsq_id': '50a6ba01e4b0bbd3843e0f0a', 'name': 'Anthropologie'}, {'fsq_id': '50a84178164875b1cc9ad0dd', 'name': 'Ann Taylor'}]}, 'timezone': 'America/Toronto'}, {'fsq_id': '4ad4c05ef964a520a6f620e3', 'categories': [{'id': 16041, 'name': 'Plaza', 'icon': {'prefix': 'https://ss3.4sqi.net/img/categories_v2/parks_outdoors/plaza_', 'suffix': '.png'}}], 'chains': [], 'distance': 7562, 'geocodes': {'main': {'latitude': 43.65227047322295, 'longitude': -79.38351631164551}}, 'location': {'address': '100 Queen St W', 'country': 'CA', 'cross_street': 'at Bay St', 'locality': 'Toronto', 'neighborhood': ['Downtown Toronto'], 'postcode': 'M5H 2N1', 'region': 'ON'}, 'name': 'Nathan Phillips Square', 'related_places': {'children': [{'fsq_id': '5af35dc62d2fd9002c46f0b7', 'name': 'Peace Garden'}]}, 'timezone': 'America/Toronto'}, {'fsq_id': '4ad4c05ef964a5209ff620e3', 'categories': [{'id': 16039, 'name': 'Urban Park', 'icon': {'prefix': 'https://ss3.4sqi.net/img/categories_v2/parks_outdoors/park_', 'suffix': '.png'}}], 'chains': [], 'distance': 10795, 'geocodes': {'main': {'latitude': 43.6464791690415, 'longitude': -79.46342468261719}}, 'location': {'address': '1873 Bloor St W', 'country': 'CA', 'cross_street': 'at Parkside Dr', 'locality': 'Toronto', 'neighborhood': ['old toronto'], 'postcode': 'M6R 2Z3', 'region': 'ON'}, 'name': 'High Park', 'related_places': {'children': [{'fsq_id': '4f859a37e4b047432f58e8df', 'name': 'High Park Cherry Blossoms'}]}, 'timezone': 'America/Toronto'}, {'fsq_id': '4b155081f964a520b4b023e3', 'categories': [{'id': 10051, 'name': 'Stadium', 'icon': {'prefix': 'https://ss3.4sqi.net/img/categories_v2/arts_entertainment/stadium_', 'suffix': '.png'}}], 'chains': [{'id': '62500e17-45ee-4bc8-a2cc-3a17035011ab', 'name': 'Pro NBA Arenas'}], 'distance': 8521, 'geocodes': {'main': {'latitude': 43.64344617535107, 'longitude': -79.37903988889991}}, 'location': {'address': '50 Bay St', 'address_extended': 'Suite 500', 'country': 'CA', 'locality': 'Toronto', 'neighborhood': ['queen-street west'], 'postcode': 'M5J 2L2', 'region': 'ON'}, 'name': 'Scotiabank Arena', 'related_places': {'children': [{'fsq_id': '5db235dbfe7ae00008a0eb1d', 'name': 'Elton John: Farewell Yellow Brick Road'}, {'fsq_id': '4c0932fcbbc676b0fdc247d5', 'name': 'ACC Offices'}, {'fsq_id': '5da655d33f96380008e07d31', 'name': 'Section 110 Scotiabank Arena'}]}, 'timezone': 'America/Toronto'}, {'fsq_id': '4ad8cd16f964a520c91421e3', 'categories': [{'id': 16041, 'name': 'Plaza', 'icon': {'prefix': 'https://ss3.4sqi.net/img/categories_v2/parks_outdoors/plaza_', 'suffix': '.png'}}, {'id': 10039, 'name': 'Music Venue', 'icon': {'prefix': 'https://ss3.4sqi.net/img/categories_v2/arts_entertainment/musicvenue_', 'suffix': '.png'}}], 'chains': [], 'distance': 7126, 'geocodes': {'main': {'latitude': 43.65605389742188, 'longitude': -79.38049504264389}}, 'location': {'address': '40 Dundas St W', 'address_extended': 'Suite 227', 'country': 'CA', 'cross_street': 'at Yonge St', 'locality': 'Toronto', 'neighborhood': ['The Village'], 'postcode': 'M5G 2C2', 'region': 'ON'}, 'name': 'Yonge-Dundas Square', 'related_places': {'children': [{'fsq_id': '4adcaacff964a520882e21e3', 'name': '10 Dundas East'}]}, 'timezone': 'America/Toronto'}], 'context': {'geo_bounds': {'circle': {'center': {'latitude': 43.72009553714439, 'longitude': -79.37577430985507}, 'radius': 26507}}}}\n"
     ]
    }
   ],
   "source": [
    "import requests\n",
    "\n",
    "url = \"https://api.foursquare.com/v3/places/search?near=Toronto%2CCanada\"\n",
    "\n",
    "headers = {\"Accept\": \"application/json\", \"Authorization\": client_key}\n",
    "\n",
    "response = requests.request(\"GET\", url, headers=headers)\n",
    "\n",
    "print(response.json())"
   ]
  },
  {
   "cell_type": "code",
   "execution_count": null,
   "metadata": {},
   "outputs": [],
   "source": []
  }
 ],
 "metadata": {
  "kernelspec": {
   "display_name": "Python 3",
   "language": "python",
   "name": "python3"
  },
  "language_info": {
   "codemirror_mode": {
    "name": "ipython",
    "version": 3
   },
   "file_extension": ".py",
   "mimetype": "text/x-python",
   "name": "python",
   "nbconvert_exporter": "python",
   "pygments_lexer": "ipython3",
   "version": "3.8.5"
  }
 },
 "nbformat": 4,
 "nbformat_minor": 4
}
