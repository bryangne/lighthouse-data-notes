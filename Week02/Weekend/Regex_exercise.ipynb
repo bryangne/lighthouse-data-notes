{
 "cells": [
  {
   "cell_type": "markdown",
   "metadata": {},
   "source": [
    "# Libraries"
   ]
  },
  {
   "cell_type": "code",
   "execution_count": 1,
   "metadata": {},
   "outputs": [],
   "source": [
    "import re"
   ]
  },
  {
   "cell_type": "markdown",
   "metadata": {},
   "source": [
    "# Load article\n",
    "\n",
    "Download the text from [**here**](https://drive.google.com/file/d/1PEUMaDaPye5pxlA-SZTsnZ4k7WSzdLLe/view?usp=sharing) and load it into python using the following code snippet."
   ]
  },
  {
   "cell_type": "code",
   "execution_count": 13,
   "metadata": {},
   "outputs": [],
   "source": [
    "# Load lines into list\n",
    "data = []\n",
    "filename = 'Article.txt'\n",
    "with open(filename, encoding='utf-8') as f:\n",
    "    lines = f.readlines()\n",
    "    for line in lines:\n",
    "        data.append(line)"
   ]
  },
  {
   "cell_type": "markdown",
   "metadata": {},
   "source": [
    "# Tasks"
   ]
  },
  {
   "cell_type": "markdown",
   "metadata": {},
   "source": [
    "### Print the first 20 lines of article"
   ]
  },
  {
   "cell_type": "code",
   "execution_count": 15,
   "metadata": {},
   "outputs": [
    {
     "name": "stdout",
     "output_type": "stream",
     "text": [
      "How To Start When You’ve Procrastinated On Your Goals For Too Long\n",
      "\n",
      "\n",
      "\n",
      "As you are reading this, you probably have a goal on your own, that you’ve pushed, postponed, procrastinated on, and other words that start with P, for days, weeks, months, or even years.\n",
      "\n",
      "\n",
      "\n",
      "Not only that, but you’ve reached the point where even the thought of the goal, brings the feeling of having butterflies in your stomach. Demon butterflies.\n",
      "\n",
      "\n",
      "\n",
      "Hopefully, today is the day you will break the chain as well.\n",
      "\n",
      "\n",
      "\n",
      "Let me help you with that.\n",
      "\n",
      "\n",
      "\n",
      "First, the explanation.\n",
      "\n",
      "In the beginning, when we set the goal, we feel usually motivated, for about a day. As each additional day passes, the resistance starts to grow.\n",
      "\n",
      "\n",
      "\n",
      "As more time passes by, we feel more overwhelmed, especially if we have attempted to start several times, and failed. It stacks up, but in a wrong direction.\n",
      "\n",
      "\n",
      "\n",
      "The biggest problem in this scenario is that we think of the sheer size of the goal, or to be more accurate, the list of the activities we need to do, and how much time it will take us to do them all.\n",
      "\n",
      "\n",
      "\n",
      "We think about the big picture.\n",
      "\n",
      "\n",
      "\n",
      "There is nothing wrong with the big picture, on the contrary, we need it, but in the beginning, when it’s the planning phase.\n",
      "\n"
     ]
    }
   ],
   "source": [
    "for i in range(0, 20):\n",
    "    print(data[i])"
   ]
  },
  {
   "cell_type": "markdown",
   "metadata": {},
   "source": [
    "## Print out every line from the file that..."
   ]
  },
  {
   "cell_type": "markdown",
   "metadata": {},
   "source": [
    "... that has 'q'"
   ]
  },
  {
   "cell_type": "code",
   "execution_count": 19,
   "metadata": {},
   "outputs": [
    {
     "name": "stdout",
     "output_type": "stream",
     "text": [
      "If necessary, sacrifice the quality, and the quantity, for the sake of consistency.\n",
      "\n"
     ]
    }
   ],
   "source": [
    "for line in data:\n",
    "    if(re.search(r\"q\", line)):\n",
    "        print(line)"
   ]
  },
  {
   "cell_type": "markdown",
   "metadata": {},
   "source": [
    "... that starts with 'H'"
   ]
  },
  {
   "cell_type": "code",
   "execution_count": 17,
   "metadata": {},
   "outputs": [
    {
     "name": "stdout",
     "output_type": "stream",
     "text": [
      "How To Start When You’ve Procrastinated On Your Goals For Too Long\n",
      "\n",
      "Hopefully, today is the day you will break the chain as well.\n",
      "\n"
     ]
    }
   ],
   "source": [
    "for line in data:\n",
    "    if(re.search(r\"\\AH\", line, re.IGNORECASE)):\n",
    "        print(line)"
   ]
  },
  {
   "cell_type": "markdown",
   "metadata": {},
   "source": [
    "... that has 'wh'"
   ]
  },
  {
   "cell_type": "code",
   "execution_count": 18,
   "metadata": {},
   "outputs": [
    {
     "name": "stdout",
     "output_type": "stream",
     "text": [
      "How To Start When You’ve Procrastinated On Your Goals For Too Long\n",
      "\n",
      "Not only that, but you’ve reached the point where even the thought of the goal, brings the feeling of having butterflies in your stomach. Demon butterflies.\n",
      "\n",
      "In the beginning, when we set the goal, we feel usually motivated, for about a day. As each additional day passes, the resistance starts to grow.\n",
      "\n",
      "As more time passes by, we feel more overwhelmed, especially if we have attempted to start several times, and failed. It stacks up, but in a wrong direction.\n",
      "\n",
      "There is nothing wrong with the big picture, on the contrary, we need it, but in the beginning, when it’s the planning phase.\n",
      "\n",
      "To be specific, just one day ahead of you. Or, as I like to call it “A 24 Hour Life”(basically what smarter people before me said but rephrased with a cooler name, fancy, I know).\n",
      "\n",
      "That’s what you should do. Don’t think about the science or that you need 66 days to establish a habit, it will just overwhelm you additionally, which you don’t need.\n",
      "\n",
      "Look back at the previous period, and try to pinpoint the main reasons on why you procrastinated (be honest with yourself).\n",
      "\n",
      "What I mean by this is, the excuses you give yourself (it’s hard, you don’t know how to do it, etc), and the distractions in your environment (the internet, television, people, food, and other).\n",
      "\n",
      "Stop dragging the luggage of your past (in)actions. That’s the thing with us people; we like to beat ourselves, which additionally prevents us from taking actions.\n",
      "\n",
      "Remember, think just 24 hours ahead (or 18/16 depending on how much you sleep) now when I think about it, the “24-hour life” is starting to lose its meaning, but it sounds cooler than “16 Hour Life.”)\n",
      "\n",
      "Anyways. The moment you forgive yourself, you will feel relieved, and slowly start to regain that original motivation, or motivation 2.0 whatever you want to call it.\n",
      "\n",
      "Even if you still want to pursue the same goal, know that it often happens that we don’t stop and think whether or not what we are trying to achieve, actually still makes sense for us (similar to being in an unhealthy relationship just because you’ve invested too much time).\n",
      "\n",
      "In those 16 hours, your sole focus (when it comes to your goal), should beonly two things:\n",
      "\n",
      "Things you have to DO to achieve your goal (what are your most important activities that will bring most results?)\n",
      "\n",
      "When you determine these two points, put them in the timeline, and then…\n",
      "\n",
      "Like slapping a muffin out of your hand (if you want to lose weight), or learning five new words in Spanish a couple of random examples here, but you get what I mean.\n",
      "\n",
      "Just remember every once in a while to make a pause, and evaluate your path and plan, just to make sure you are still on the right track.\n"
     ]
    }
   ],
   "source": [
    "for line in data:\n",
    "    if(re.search(r\"wh\", line, re.IGNORECASE)):\n",
    "        print(line)#"
   ]
  },
  {
   "cell_type": "markdown",
   "metadata": {},
   "source": [
    "... that has an 'q' or a 'Q'"
   ]
  },
  {
   "cell_type": "code",
   "execution_count": 20,
   "metadata": {},
   "outputs": [
    {
     "name": "stdout",
     "output_type": "stream",
     "text": [
      "If necessary, sacrifice the quality, and the quantity, for the sake of consistency.\n",
      "\n",
      "If necessary, sacrifice the Quality, and the Quantity, for the sake of CONSISTENCY.\n",
      "\n"
     ]
    }
   ],
   "source": [
    "for line in data:\n",
    "    if(re.search(r\"q\", line, re.IGNORECASE)):\n",
    "        print(line)"
   ]
  },
  {
   "cell_type": "markdown",
   "metadata": {},
   "source": [
    "... that has a '*' in it"
   ]
  },
  {
   "cell_type": "code",
   "execution_count": 22,
   "metadata": {},
   "outputs": [
    {
     "name": "stdout",
     "output_type": "stream",
     "text": [
      "*******************************\n",
      "\n",
      "Even though it’s simple, it’s not easy *.\n",
      "\n"
     ]
    }
   ],
   "source": [
    "for line in data:\n",
    "    if(re.search(r\"\\*\", line)):\n",
    "        print(line)"
   ]
  },
  {
   "cell_type": "markdown",
   "metadata": {},
   "source": [
    "... that has a '*' (star) in it"
   ]
  },
  {
   "cell_type": "code",
   "execution_count": 25,
   "metadata": {},
   "outputs": [],
   "source": []
  },
  {
   "cell_type": "markdown",
   "metadata": {},
   "source": [
    "... that starts with an 'T' or an 't'"
   ]
  },
  {
   "cell_type": "code",
   "execution_count": 26,
   "metadata": {},
   "outputs": [],
   "source": []
  },
  {
   "cell_type": "markdown",
   "metadata": {},
   "source": [
    "... that starts with number"
   ]
  },
  {
   "cell_type": "code",
   "execution_count": 27,
   "metadata": {},
   "outputs": [],
   "source": [
    "#"
   ]
  },
  {
   "cell_type": "markdown",
   "metadata": {},
   "source": [
    "... that has both 'a' and 'e' in it"
   ]
  },
  {
   "cell_type": "code",
   "execution_count": 1,
   "metadata": {},
   "outputs": [],
   "source": [
    "#"
   ]
  },
  {
   "cell_type": "markdown",
   "metadata": {},
   "source": [
    "... that has both 'i' and 'o' in it"
   ]
  },
  {
   "cell_type": "code",
   "execution_count": 2,
   "metadata": {},
   "outputs": [],
   "source": [
    "# "
   ]
  },
  {
   "cell_type": "markdown",
   "metadata": {},
   "source": [
    "... that has an 'a' and somewhere later an 'e'"
   ]
  },
  {
   "cell_type": "code",
   "execution_count": 29,
   "metadata": {},
   "outputs": [],
   "source": [
    "#"
   ]
  },
  {
   "cell_type": "markdown",
   "metadata": {},
   "source": [
    "... that does not have an 'i'"
   ]
  },
  {
   "cell_type": "code",
   "execution_count": 30,
   "metadata": {},
   "outputs": [],
   "source": [
    "#"
   ]
  },
  {
   "cell_type": "markdown",
   "metadata": {},
   "source": [
    "... that does not have an 'i' nor 'z'"
   ]
  },
  {
   "cell_type": "code",
   "execution_count": 31,
   "metadata": {},
   "outputs": [],
   "source": [
    "#"
   ]
  },
  {
   "cell_type": "markdown",
   "metadata": {},
   "source": [
    "... that has an 'x' but not 'y'"
   ]
  },
  {
   "cell_type": "code",
   "execution_count": 32,
   "metadata": {},
   "outputs": [],
   "source": [
    "#"
   ]
  },
  {
   "cell_type": "markdown",
   "metadata": {},
   "source": [
    "... that has at least 2 consecutive vowels (a, e, i, o, u) like in the word \"bear\""
   ]
  },
  {
   "cell_type": "code",
   "execution_count": 33,
   "metadata": {},
   "outputs": [],
   "source": [
    "#"
   ]
  },
  {
   "cell_type": "markdown",
   "metadata": {},
   "source": [
    "... that has at least 3 vowels"
   ]
  },
  {
   "cell_type": "code",
   "execution_count": 34,
   "metadata": {},
   "outputs": [],
   "source": [
    "#"
   ]
  },
  {
   "cell_type": "markdown",
   "metadata": {},
   "source": [
    "... that has at least 30 characters"
   ]
  },
  {
   "cell_type": "code",
   "execution_count": 35,
   "metadata": {},
   "outputs": [],
   "source": [
    "#"
   ]
  },
  {
   "cell_type": "markdown",
   "metadata": {},
   "source": [
    "... has the same word appear twice in the same line"
   ]
  },
  {
   "cell_type": "code",
   "execution_count": 35,
   "metadata": {},
   "outputs": [],
   "source": [
    "#"
   ]
  },
  {
   "cell_type": "markdown",
   "metadata": {},
   "source": [
    "## Print all the words"
   ]
  },
  {
   "cell_type": "markdown",
   "metadata": {},
   "source": [
    "Words with either 'Bar' or 'Baz' in them"
   ]
  },
  {
   "cell_type": "code",
   "execution_count": 36,
   "metadata": {},
   "outputs": [],
   "source": [
    "#"
   ]
  },
  {
   "cell_type": "markdown",
   "metadata": {},
   "source": [
    "Words with either 'Whe' or 'The' in them"
   ]
  },
  {
   "cell_type": "code",
   "execution_count": 37,
   "metadata": {},
   "outputs": [],
   "source": [
    "#"
   ]
  },
  {
   "cell_type": "markdown",
   "metadata": {},
   "source": [
    "Words containing a double character (e.g. 'oo')"
   ]
  },
  {
   "cell_type": "code",
   "execution_count": 41,
   "metadata": {},
   "outputs": [],
   "source": [
    "#"
   ]
  },
  {
   "cell_type": "markdown",
   "metadata": {},
   "source": [
    "## Cleanup string codes so they contain only numbers\n",
    "* Remove slash and spaces"
   ]
  },
  {
   "cell_type": "code",
   "execution_count": 44,
   "metadata": {},
   "outputs": [],
   "source": [
    "codes = ['2373/ 8293', \n",
    "         ' 8292342 / 8263', \n",
    "         '12/903820 ',\n",
    "         '8203184 / 02342 ']\n",
    "\n",
    "#"
   ]
  },
  {
   "cell_type": "markdown",
   "metadata": {},
   "source": [
    "## Switch order of the numbers in string\n",
    "* Preserve slash /\n",
    "* Remove spaces"
   ]
  },
  {
   "cell_type": "code",
   "execution_count": 40,
   "metadata": {},
   "outputs": [],
   "source": [
    "codes = ['2373/ 8293', \n",
    "         ' 8292342 / 8263', \n",
    "         '12/903820 ',\n",
    "         '8203184 / 02342 ']\n",
    "\n",
    "#"
   ]
  }
 ],
 "metadata": {
  "kernelspec": {
   "display_name": "Python 3",
   "language": "python",
   "name": "python3"
  },
  "language_info": {
   "codemirror_mode": {
    "name": "ipython",
    "version": 3
   },
   "file_extension": ".py",
   "mimetype": "text/x-python",
   "name": "python",
   "nbconvert_exporter": "python",
   "pygments_lexer": "ipython3",
   "version": "3.8.5"
  }
 },
 "nbformat": 4,
 "nbformat_minor": 4
}
