{
 "cells": [
  {
   "cell_type": "markdown",
   "metadata": {},
   "source": [
    "# Image Classifier\n",
    "\n",
    "We will be following the [Create your first Image Recognition Classifier using CNN, Keras and Tensorflow](https://medium.com/nybles/create-your-first-image-recognition-classifier-using-cnn-keras-and-tensorflow-backend-6eaab98d14dd) backend tutorial. We will make only some small adjustments because we use Docker with a newer version of Tensorflow and Keras.\n",
    "\n",
    "If you come across any Keras object of function that you are not 100% sure what it does you can look it up in this great Keras [documentation](keras.io).\n",
    "\n",
    "## Getting Started - a Dog or a Cat\n",
    "The idea of this tutorial is to create a simple Dog/Cat Image classifier. This is a good starting point for image recognition.\n",
    "\n",
    "### Agenda\n",
    "- Collecting data\n",
    "- Importing libraries and splitting data to train and test\n",
    "- Building the network\n",
    "- Data augmentation\n",
    "- Training\n",
    "- Testing\n",
    "\n",
    "## Step 1 - Collecting Data\n",
    "We need a lot of data to train our algorithm so that our model can learn from them by identifying certain relations and common features related to the objects.\n",
    "\n",
    "Fortunately, many such datasets are available on the internet. We can download one from [here](https://drive.google.com/file/d/1FTCTZaNkgmAyoQ2pZYR4LKxcXI4bLp00/view)."
   ]
  },
  {
   "cell_type": "markdown",
   "metadata": {},
   "source": [
    ">Make sure you place the folder `dataset` with the data into your working directory."
   ]
  },
  {
   "cell_type": "markdown",
   "metadata": {},
   "source": [
    "## Step 2 - Importing Libraries and Splitting Data into Train and Test Sets\n",
    "\n",
    "As usual, we have to start by importing the libraries and objects we will use."
   ]
  },
  {
   "cell_type": "code",
   "execution_count": 1,
   "metadata": {},
   "outputs": [],
   "source": [
    "from tensorflow.keras.models import Sequential\n",
    "from tensorflow.keras.layers import Convolution2D\n",
    "from tensorflow.keras.layers import MaxPooling2D\n",
    "from tensorflow.keras.layers import Flatten\n",
    "from tensorflow.keras.layers import Dense"
   ]
  },
  {
   "cell_type": "markdown",
   "metadata": {},
   "source": [
    "After the import, we have to split our data into two parts: tainingset and testset. In our case, this is already done. The training set consists of 4,000 images of dogs and cats each, while the test set contains 1,000 images per category. In this case, the train and test data are stored in different folders on our disk."
   ]
  },
  {
   "cell_type": "markdown",
   "metadata": {},
   "source": [
    "## Step 3 - Building the Network\n",
    "\n",
    "This is the most important step in creating our network. It consists of four parts:\n",
    "\n",
    "1. Convolution\n",
    "2. Pooling\n",
    "3. Flattening\n",
    "4. Full connection\n",
    "\n",
    "We heard about these steps in the previous video. However, we can also refer to the article [Create your first Image Recognition Classifier using CNN, Keras and Tensorflow backend](https://medium.com/nybles/create-your-first-image-recognition-classifier-using-cnn-keras-and-tensorflow-backend-6eaab98d14dd), which summarizes the topic, to refresh what we've already heard and make sure we understand well what is happening in these steps."
   ]
  },
  {
   "cell_type": "code",
   "execution_count": 2,
   "metadata": {},
   "outputs": [],
   "source": [
    "# Initialising the CNN\n",
    "classifier = Sequential()\n",
    "\n",
    "# Step 1 - Convolution\n",
    "classifier.add(Convolution2D(32, 3, 3, input_shape = (64, 64, 3), activation = 'relu'))\n",
    "# Step 2 - Pooling\n",
    "classifier.add(MaxPooling2D(pool_size = (2, 2)))\n",
    "# Step 3 - Flattening\n",
    "classifier.add(Flatten())\n",
    "# Step 4 - Full connection\n",
    "classifier.add(Dense(128, activation = 'relu'))\n",
    "classifier.add(Dense(1, activation = 'sigmoid'))\n",
    "\n",
    "# Compiling the CNN\n",
    "classifier.compile(optimizer = 'adam', loss = 'binary_crossentropy', metrics = ['accuracy'])"
   ]
  },
  {
   "cell_type": "markdown",
   "metadata": {},
   "source": [
    "### 1. Convolution\n",
    "The primary purpose of convolution is to extract features from the input image. Convolution preserves the spatial relationship between pixels by learning image features using small squares of input data.\n",
    "\n",
    "First three parameters refer to:\n",
    "\n",
    "- **Filters**: The dimensionality of the output space (i.e. the number of output filters in the convolution). We will end up with a convolved feature matrix of `32x32`.\n",
    "- **Kernel_size**: Specifying the height and width of the 2D convolution window. It can be a tuple if we don't want a square.\n",
    "- **Strides**: Specifying the strides of the convolution along with the height and width. It can be a tuple if we want a different height and width."
   ]
  },
  {
   "cell_type": "markdown",
   "metadata": {},
   "source": [
    "### 2. Pooling\n",
    "In the case of Max Pooling, we use the parameter pool_size to define a spatial neighborhood (in our case a 2×2 window) and take the largest element from the rectified feature map within that window."
   ]
  },
  {
   "cell_type": "markdown",
   "metadata": {},
   "source": [
    "### 3. Flattening\n",
    "We convert the matrix into a 1D array which can be the input of the final Neural Network."
   ]
  },
  {
   "cell_type": "markdown",
   "metadata": {},
   "source": [
    "### Step 4 - Data Augmentation\n",
    "We need a lot of data to train a network but suppose we have a limited number of images for our network – what do we do? We don’t need to hunt for new images that can be added to our dataset. Why? Because neural networks aren’t smart, to begin with. For instance, a poorly trained neural network would think that the three tennis balls shown below are distinct, unique images.\n",
    "\n",
    "So, to get more data, we just need to make alterations to our existing dataset – minor changes such as flips, translations, or rotations – and our neural network will think these are distinct images anyway. Data augmentation is a way of reducing overfitting of models, where we increase the amount of training data using only the information from our training data. The field of data augmentation is not new and, in fact, there are various data augmentation techniques for specific problems."
   ]
  },
  {
   "cell_type": "code",
   "execution_count": 4,
   "metadata": {},
   "outputs": [
    {
     "name": "stdout",
     "output_type": "stream",
     "text": [
      "Found 8000 images belonging to 2 classes.\n",
      "Found 2000 images belonging to 2 classes.\n"
     ]
    }
   ],
   "source": [
    "from tensorflow.keras.preprocessing.image import ImageDataGenerator\n",
    "\n",
    "train_datagen = ImageDataGenerator(rescale = 1./255,\n",
    "                                   shear_range = 0.2,\n",
    "                                   zoom_range = 0.2,\n",
    "                                   horizontal_flip = True)\n",
    "\n",
    "test_datagen = ImageDataGenerator(rescale = 1./255)\n",
    "\n",
    "training_set = train_datagen.flow_from_directory('dataset/training_set',\n",
    "                                                 target_size = (64, 64),\n",
    "                                                 batch_size = 32,\n",
    "                                                 class_mode = 'binary')\n",
    "\n",
    "test_set = test_datagen.flow_from_directory('dataset/test_set',\n",
    "                                            target_size = (64, 64),\n",
    "                                            batch_size = 32,\n",
    "                                            class_mode = 'binary')"
   ]
  },
  {
   "cell_type": "markdown",
   "metadata": {},
   "source": [
    "We apply transformation to the images to extend our train and test samples."
   ]
  },
  {
   "cell_type": "markdown",
   "metadata": {},
   "source": [
    "### Step 5 - Training\n",
    "\n",
    "We changed the code slightly – we have changed the steps per epoch and the number of epochs. This reduces the quality of the model but, on the other hand, even those of us, who don't have a GPU in their computers will be able to finish the training withing a reasonable amount time.\n",
    "\n",
    "With an increasing number of epochs, the accuracy will increase, too."
   ]
  },
  {
   "cell_type": "code",
   "execution_count": 5,
   "metadata": {},
   "outputs": [
    {
     "name": "stdout",
     "output_type": "stream",
     "text": [
      "WARNING:tensorflow:From C:\\Users\\engwb\\AppData\\Local\\Temp/ipykernel_19264/2840183641.py:1: Model.fit_generator (from tensorflow.python.keras.engine.training) is deprecated and will be removed in a future version.\n",
      "Instructions for updating:\n",
      "Please use Model.fit, which supports generators.\n",
      "Epoch 1/10\n",
      "50/50 [==============================] - 25s 499ms/step - loss: 0.7005 - accuracy: 0.5500 - val_loss: 0.6903 - val_accuracy: 0.5200\n",
      "Epoch 2/10\n",
      "50/50 [==============================] - 13s 265ms/step - loss: 0.6694 - accuracy: 0.5788 - val_loss: 0.6846 - val_accuracy: 0.5300\n",
      "Epoch 3/10\n",
      "50/50 [==============================] - 12s 240ms/step - loss: 0.6581 - accuracy: 0.5962 - val_loss: 0.6554 - val_accuracy: 0.5925\n",
      "Epoch 4/10\n",
      "50/50 [==============================] - 11s 220ms/step - loss: 0.6423 - accuracy: 0.6300 - val_loss: 0.6188 - val_accuracy: 0.6760\n",
      "Epoch 5/10\n",
      "50/50 [==============================] - 10s 208ms/step - loss: 0.6146 - accuracy: 0.6612 - val_loss: 0.6179 - val_accuracy: 0.6680\n",
      "Epoch 6/10\n",
      "50/50 [==============================] - 9s 190ms/step - loss: 0.6119 - accuracy: 0.6669 - val_loss: 0.5924 - val_accuracy: 0.6995\n",
      "Epoch 7/10\n",
      "50/50 [==============================] - 9s 179ms/step - loss: 0.5845 - accuracy: 0.6975 - val_loss: 0.7709 - val_accuracy: 0.5615\n",
      "Epoch 8/10\n",
      "50/50 [==============================] - 8s 170ms/step - loss: 0.6142 - accuracy: 0.6600 - val_loss: 0.6238 - val_accuracy: 0.6490\n",
      "Epoch 9/10\n",
      "50/50 [==============================] - 8s 163ms/step - loss: 0.5938 - accuracy: 0.6919 - val_loss: 0.5739 - val_accuracy: 0.7120\n",
      "Epoch 10/10\n",
      "50/50 [==============================] - 8s 155ms/step - loss: 0.5961 - accuracy: 0.6938 - val_loss: 0.6532 - val_accuracy: 0.6140\n"
     ]
    }
   ],
   "source": [
    "history = classifier.fit_generator(training_set,\n",
    "                         steps_per_epoch = 50,\n",
    "                         epochs = 10,\n",
    "                         validation_data = test_set)"
   ]
  },
  {
   "cell_type": "markdown",
   "metadata": {},
   "source": [
    ">Beware of overfitting in case of using too many epochs."
   ]
  },
  {
   "cell_type": "markdown",
   "metadata": {},
   "source": [
    "We can check the graph to see how our loss was decreasing during the training."
   ]
  },
  {
   "cell_type": "code",
   "execution_count": 6,
   "metadata": {},
   "outputs": [
    {
     "data": {
      "image/png": "[encoded data removed]",
      "text/plain": [
       "<Figure size 432x288 with 1 Axes>"
      ]
     },
     "metadata": {
      "needs_background": "light"
     },
     "output_type": "display_data"
    }
   ],
   "source": [
    "from matplotlib import pyplot as plt\n",
    "# plot history\n",
    "plt.plot(history.history['loss'], label='train')\n",
    "plt.plot(history.history['val_loss'], label='test')\n",
    "plt.legend()\n",
    "plt.show()"
   ]
  },
  {
   "cell_type": "markdown",
   "metadata": {},
   "source": [
    "We can see that even though the loss of the training set goes down quite fast, it is not the case with the test set. That means that our model doesn't generalize very well on new data.\n",
    "\n",
    ">Your graph can look different because it depends on the initial weights."
   ]
  },
  {
   "cell_type": "markdown",
   "metadata": {},
   "source": [
    "### Step 6 - Testing\n",
    "Now, let's test a random image.\n",
    "\n",
    "Download the image from [here](https://drive.google.com/file/d/1wzF-BlI7A_tlcaIjyzXKsgW5DS0jkUSg/view)."
   ]
  },
  {
   "cell_type": "code",
   "execution_count": 9,
   "metadata": {},
   "outputs": [
    {
     "name": "stdout",
     "output_type": "stream",
     "text": [
      "dog\n"
     ]
    }
   ],
   "source": [
    "import numpy as np\n",
    "from tensorflow.keras.preprocessing import image\n",
    "# loading an image from the disk\n",
    "test_image = image.load_img('random_dog.png', target_size = (64, 64))\n",
    "# converting the image to a numpy array\n",
    "test_image = image.img_to_array(test_image)\n",
    "test_image = np.expand_dims(test_image, axis = 0)\n",
    "result = classifier.predict(test_image)\n",
    "# print(training_set.class_indices)\n",
    "# our cut-off\n",
    "if result[0][0] >= 0.5:\n",
    "    prediction = 'dog'\n",
    "else:\n",
    "    prediction = 'cat'\n",
    "print(prediction)"
   ]
  },
  {
   "cell_type": "markdown",
   "metadata": {},
   "source": [
    "And (YAY!) our network correctly predicted an image of a dog!\n",
    "\n",
    "We can even try it with other images and see what it predicts. Now we can answer many interesting questions such as:\n",
    "\n",
    "- Does a tree look like a cat or a dog?\n",
    "- Do people look more like a cat or a dog?\n",
    "- Etc, etc :).\n",
    "\n",
    "Enjoy the power of Deep Learning and have some fun!"
   ]
  }
 ],
 "metadata": {
  "interpreter": {
   "hash": "e58bee93fc224c7a286422faeec37fb8e5e546f812e9d0973ae4eb5c691cd7b0"
  },
  "kernelspec": {
   "display_name": "Python 3.8.12 64-bit ('keras': conda)",
   "language": "python",
   "name": "python3"
  },
  "language_info": {
   "codemirror_mode": {
    "name": "ipython",
    "version": 3
   },
   "file_extension": ".py",
   "mimetype": "text/x-python",
   "name": "python",
   "nbconvert_exporter": "python",
   "pygments_lexer": "ipython3",
   "version": "3.8.12"
  },
  "orig_nbformat": 4
 },
 "nbformat": 4,
 "nbformat_minor": 2
}
