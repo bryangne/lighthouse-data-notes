{
 "cells": [
  {
   "cell_type": "markdown",
   "metadata": {},
   "source": [
    "## Practicing Neural Networks with the fashion MNIST dataset\n",
    "---------------------------------"
   ]
  },
  {
   "cell_type": "markdown",
   "metadata": {},
   "source": [
    "### Loading the fashion MNIST data \n",
    "The data can be loaded directly from keras (`keras.datasets.fashion_mnist`).\n",
    "\n",
    "```python\n",
    "fashion_mnist = keras.datasets.fashion_mnist\n",
    "(train_images, train_labels), (test_images, test_labels) = fashion_mnist.load_data()\n",
    "# returns 4 numpy arrays: 2 training sets and 2 test sets\n",
    "# images: 28x28 arrays, pixel values: 0 to 255\n",
    "# labels: array of integers: 0 to 9 => class of clothings\n",
    "# Training set: 60,000 images, Testing set: 10,000 images\n",
    "\n",
    "# class names are not included, need to create them to plot the images  \n",
    "class_names = ['T-shirt/top', 'Trouser', 'Pullover', 'Dress', 'Coat', 'Sandal', 'Shirt', 'Sneaker', 'Bag', 'Ankle boot']\n",
    "```"
   ]
  },
  {
   "cell_type": "code",
   "execution_count": 14,
   "metadata": {},
   "outputs": [],
   "source": [
    "from tensorflow.keras.datasets import mnist\n",
    "import keras"
   ]
  },
  {
   "cell_type": "code",
   "execution_count": 24,
   "metadata": {},
   "outputs": [],
   "source": [
    "fashion_mnist = keras.datasets.fashion_mnist\n",
    "(train_images, train_labels), (test_images, test_labels) = fashion_mnist.load_data()\n",
    "# returns 4 numpy arrays: 2 training sets and 2 test sets\n",
    "# images: 28x28 arrays, pixel values: 0 to 255\n",
    "# labels: array of integers: 0 to 9 => class of clothings\n",
    "# Training set: 60,000 images, Testing set: 10,000 images\n",
    "\n",
    "# class names are not included, need to create them to plot the images  \n",
    "class_names = ['T-shirt/top', 'Trouser', 'Pullover', 'Dress', 'Coat', 'Sandal', 'Shirt', 'Sneaker', 'Bag', 'Ankle boot']"
   ]
  },
  {
   "cell_type": "markdown",
   "metadata": {},
   "source": [
    "-------------------\n",
    "### Data Exploration\n",
    "\n",
    "- **Task 1:** Explore the pictures and labels. \n",
    "    - Try displaying a picture of each class in jupyter.\n",
    "    \n",
    "    \n",
    "- **Task 2:** Normalize the data to be between 0 and 1. \n",
    "    - Write down in a new markdown cell, **why** should we do this?"
   ]
  },
  {
   "cell_type": "code",
   "execution_count": 16,
   "metadata": {},
   "outputs": [],
   "source": [
    "import matplotlib.pyplot as plt\n",
    "import matplotlib.image as mpimg\n",
    "%matplotlib inline"
   ]
  },
  {
   "cell_type": "code",
   "execution_count": 17,
   "metadata": {},
   "outputs": [
    {
     "data": {
      "image/png": "[encoded data removed]",
      "text/plain": [
       "<Figure size 432x288 with 1 Axes>"
      ]
     },
     "metadata": {
      "needs_background": "light"
     },
     "output_type": "display_data"
    }
   ],
   "source": [
    "imgplot = plt.imshow(train_images[1])"
   ]
  },
  {
   "cell_type": "code",
   "execution_count": 19,
   "metadata": {},
   "outputs": [],
   "source": [
    "from sklearn.preprocessing import minmax_scale"
   ]
  },
  {
   "cell_type": "code",
   "execution_count": 32,
   "metadata": {},
   "outputs": [],
   "source": [
    "test_images = test_images / 255\n",
    "train_images = train_images / 255"
   ]
  },
  {
   "cell_type": "code",
   "execution_count": null,
   "metadata": {},
   "outputs": [],
   "source": []
  },
  {
   "cell_type": "markdown",
   "metadata": {},
   "source": [
    "----------------------\n",
    "### Training NN model \n",
    "\n",
    "Step 1  -  Build the architecture\n",
    "\n",
    "Step 2  -  Compile the model \n",
    "\n",
    "Step 3  -  Train the model\n",
    "\n",
    "Step 4  -  Evaluate the model "
   ]
  },
  {
   "cell_type": "code",
   "execution_count": 33,
   "metadata": {},
   "outputs": [],
   "source": [
    "from tensorflow.keras import models\n",
    "from tensorflow.keras import layers\n",
    "from tensorflow.keras.utils import to_categorical"
   ]
  },
  {
   "cell_type": "code",
   "execution_count": 34,
   "metadata": {},
   "outputs": [],
   "source": [
    "network = models.Sequential()\n",
    "network.add(layers.Dense(784, activation='relu', input_shape=(28 * 28,)))\n",
    "network.add(layers.Dense(784, activation='relu', input_shape=(28 * 28,)))\n",
    "network.add(layers.Dense(10, activation='softmax'))\n",
    "network.compile(optimizer='adam',\n",
    "                loss='categorical_crossentropy',\n",
    "                metrics=['accuracy'])"
   ]
  },
  {
   "cell_type": "code",
   "execution_count": 35,
   "metadata": {},
   "outputs": [],
   "source": [
    "train_images = train_images.reshape((60000, 28 * 28))\n",
    "train_images = train_images.astype('float32') / 255\n",
    "test_images = test_images.reshape((10000, 28 * 28))\n",
    "test_images = test_images.astype('float32') / 255"
   ]
  },
  {
   "cell_type": "code",
   "execution_count": 36,
   "metadata": {},
   "outputs": [],
   "source": [
    "train_labels = (to_categorical(train_labels))\n",
    "test_labels = to_categorical(test_labels)"
   ]
  },
  {
   "cell_type": "code",
   "execution_count": 39,
   "metadata": {},
   "outputs": [
    {
     "name": "stdout",
     "output_type": "stream",
     "text": [
      "Epoch 1/20\n",
      "60/60 [==============================] - 1s 23ms/step - loss: 0.5189 - accuracy: 0.8132\n",
      "Epoch 2/20\n",
      "60/60 [==============================] - 1s 22ms/step - loss: 0.4925 - accuracy: 0.8244\n",
      "Epoch 3/20\n",
      "60/60 [==============================] - 1s 23ms/step - loss: 0.4728 - accuracy: 0.8324\n",
      "Epoch 4/20\n",
      "60/60 [==============================] - 1s 23ms/step - loss: 0.4566 - accuracy: 0.8379\n",
      "Epoch 5/20\n",
      "60/60 [==============================] - 1s 24ms/step - loss: 0.4391 - accuracy: 0.8442\n",
      "Epoch 6/20\n",
      "60/60 [==============================] - 2s 27ms/step - loss: 0.4282 - accuracy: 0.8470\n",
      "Epoch 7/20\n",
      "60/60 [==============================] - 1s 25ms/step - loss: 0.4185 - accuracy: 0.8499\n",
      "Epoch 8/20\n",
      "60/60 [==============================] - 1s 23ms/step - loss: 0.4132 - accuracy: 0.8520\n",
      "Epoch 9/20\n",
      "60/60 [==============================] - 1s 23ms/step - loss: 0.4053 - accuracy: 0.8556\n",
      "Epoch 10/20\n",
      "60/60 [==============================] - 1s 23ms/step - loss: 0.3956 - accuracy: 0.8590\n",
      "Epoch 11/20\n",
      "60/60 [==============================] - 1s 24ms/step - loss: 0.3937 - accuracy: 0.8581\n",
      "Epoch 12/20\n",
      "60/60 [==============================] - 1s 23ms/step - loss: 0.3874 - accuracy: 0.8609\n",
      "Epoch 13/20\n",
      "60/60 [==============================] - 1s 22ms/step - loss: 0.3798 - accuracy: 0.8640\n",
      "Epoch 14/20\n",
      "60/60 [==============================] - 1s 23ms/step - loss: 0.3751 - accuracy: 0.8655\n",
      "Epoch 15/20\n",
      "60/60 [==============================] - 1s 24ms/step - loss: 0.3699 - accuracy: 0.8678\n",
      "Epoch 16/20\n",
      "60/60 [==============================] - 1s 24ms/step - loss: 0.3660 - accuracy: 0.8683\n",
      "Epoch 17/20\n",
      "60/60 [==============================] - 1s 23ms/step - loss: 0.3618 - accuracy: 0.8712\n",
      "Epoch 18/20\n",
      "60/60 [==============================] - 1s 23ms/step - loss: 0.3579 - accuracy: 0.8712\n",
      "Epoch 19/20\n",
      "60/60 [==============================] - 1s 22ms/step - loss: 0.3568 - accuracy: 0.8709\n",
      "Epoch 20/20\n",
      "60/60 [==============================] - 1s 21ms/step - loss: 0.3525 - accuracy: 0.8727\n"
     ]
    },
    {
     "data": {
      "text/plain": [
       "<tensorflow.python.keras.callbacks.History at 0x210dde8cdc0>"
      ]
     },
     "execution_count": 39,
     "metadata": {},
     "output_type": "execute_result"
    }
   ],
   "source": [
    "network.fit(train_images, train_labels, epochs=20, batch_size=1000)"
   ]
  },
  {
   "cell_type": "code",
   "execution_count": 40,
   "metadata": {},
   "outputs": [
    {
     "name": "stdout",
     "output_type": "stream",
     "text": [
      "313/313 [==============================] - 1s 2ms/step - loss: 0.3931 - accuracy: 0.8590\n",
      "test_acc: 0.859000027179718 test_loss 0.3930881917476654\n"
     ]
    }
   ],
   "source": [
    "test_loss, test_acc = network.evaluate(test_images, test_labels)\n",
    "print('test_acc:', test_acc, 'test_loss', test_loss)"
   ]
  },
  {
   "cell_type": "code",
   "execution_count": null,
   "metadata": {},
   "outputs": [],
   "source": []
  }
 ],
 "metadata": {
  "kernelspec": {
   "display_name": "Python 3",
   "language": "python",
   "name": "python3"
  },
  "language_info": {
   "codemirror_mode": {
    "name": "ipython",
    "version": 3
   },
   "file_extension": ".py",
   "mimetype": "text/x-python",
   "name": "python",
   "nbconvert_exporter": "python",
   "pygments_lexer": "ipython3",
   "version": "3.8.12"
  }
 },
 "nbformat": 4,
 "nbformat_minor": 4
}
